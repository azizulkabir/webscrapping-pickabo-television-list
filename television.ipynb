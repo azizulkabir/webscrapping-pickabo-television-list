{
 "cells": [
  {
   "attachments": {},
   "cell_type": "markdown",
   "metadata": {},
   "source": [
    "all the television data from pickabo by using selenium;"
   ]
  },
  {
   "cell_type": "code",
   "execution_count": 16,
   "metadata": {},
   "outputs": [
    {
     "name": "stderr",
     "output_type": "stream",
     "text": [
      "C:\\Program Files\\KMSpico\\temp\\ipykernel_1216\\2814187791.py:3: DeprecationWarning: executable_path has been deprecated, please pass in a Service object\n",
      "  driver = webdriver.Chrome(ChromeDriverManager().install())\n"
     ]
    },
    {
     "name": "stdout",
     "output_type": "stream",
     "text": [
      "1\n",
      "Vision G3S Galaxy Pro 55\" 4K LED Google Android TV\n",
      "৳84,400\n",
      "None\n",
      "2\n",
      "Vision E3S 43\" LED Android FHD Infinity TV\n",
      "৳43,900\n",
      "None\n",
      "3\n",
      "Vision E20 32\" LED Android Smart Infinity TV\n",
      "৳29,500\n",
      "None\n",
      "4\n",
      "Walton W32D210E11G 32” LED HD Android TV\n",
      "৳30,590\n",
      "৳32,900\n",
      "5\n",
      "Walton WD-RS40E11G1 40\" HD Android TV\n",
      "৳34,390\n",
      "৳36,900\n",
      "6\n",
      "Rowa 55U62 55” 4K UHD LED Google Smart TV\n",
      "৳75,000\n",
      "None\n",
      "7\n",
      "Rowa 43U62 43” 4K Android Google Smart TV\n",
      "৳49,900\n",
      "None\n",
      "8\n",
      "Rowa 32S52 32” HD Smart TV\n",
      "৳27,900\n",
      "None\n",
      "9\n",
      "Samsung 43AU8100 43\" Crystal UHD 4K Smart TV\n",
      "৳49,990\n",
      "৳69,000\n",
      "10\n",
      "Samsung 75QN95B Neo 75” QLED 4K Smart TV\n",
      "৳488,390\n",
      "৳508,900\n",
      "11\n",
      "Samsung 65QN95B Neo 65” QLED 4K Smart TV\n",
      "৳321,900\n",
      "৳341,900\n",
      "12\n",
      "Samsung 55QN95B Neo 55” QLED 4K Smart TV\n",
      "৳221,990\n",
      "৳241,900\n",
      "13\n",
      "Samsung 75QN90B Neo 75” QLED 4K Smart TV (2022)\n",
      "৳388,490\n",
      "৳408,900\n",
      "14\n",
      "Samsung 65QN90B Neo 65” QLED 4K Smart TV (2022)\n",
      "৳260,900\n",
      "৳280,900\n",
      "15\n",
      "Samsung 55QN90B Neo 55” QLED 4K Smart TV (2022)\n",
      "৳193,990\n",
      "৳213,900\n",
      "16\n",
      "Samsung 75QN85B Neo 75” QLED 4K Smart TV (2022)\n",
      "৳327,490\n",
      "৳347,900\n",
      "17\n",
      "Samsung 65QN85B Neo 65” QLED 4K Smart TV (2022)\n",
      "৳205,390\n",
      "৳225,900\n",
      "18\n",
      "Samsung 55QN85B Neo 55” QLED 4K Smart TV (2022)\n",
      "৳155,390\n",
      "৳175,900\n",
      "19\n",
      "Samsung 65QN700B Neo 65” QLED 8K HDR Smart TV (2022)\n",
      "৳249,790\n",
      "৳270,900\n",
      "20\n",
      "Samsung 55QN700B Neo 55” QLED 8K HDR Smart TV (2022)\n",
      "৳166,590\n",
      "৳186,900\n"
     ]
    }
   ],
   "source": [
    "from selenium import webdriver\n",
    "from webdriver_manager.chrome import ChromeDriverManager\n",
    "driver = webdriver.Chrome(ChromeDriverManager().install())\n",
    "\n",
    "url = 'https://www.pickaboo.com/product/television/'\n",
    "driver.get(url)\n",
    "product = 1\n",
    "while product <=20:\n",
    "    name = driver.find_element('xpath', f'(//p[@class=\"product-title\"]){[product]}').text\n",
    "    price = driver.find_element('xpath', f'(//p[@class=\"product-price\"]){[product]}/span').text\n",
    "    try:\n",
    "        previous_price = driver.find_element('xpath', f'(//p[@class=\"product-price\"]){[product]}/s').text\n",
    "    except:\n",
    "        previous_price = None\n",
    "\n",
    "    print(name)\n",
    "    next_button = driver.find_element('xpath', '//button[@aria-label=\"Go to next page\"]').click()\n",
    "    \n",
    "    print(product)\n",
    "    print(name)\n",
    "    print(price)\n",
    "    print(previous_price)\n",
    "    product += 1\n",
    "   \n",
    "       \n",
    "\n",
    "\n"
   ]
  }
 ],
 "metadata": {
  "kernelspec": {
   "display_name": "Python 3",
   "language": "python",
   "name": "python3"
  },
  "language_info": {
   "codemirror_mode": {
    "name": "ipython",
    "version": 3
   },
   "file_extension": ".py",
   "mimetype": "text/x-python",
   "name": "python",
   "nbconvert_exporter": "python",
   "pygments_lexer": "ipython3",
   "version": "3.11.1"
  },
  "orig_nbformat": 4,
  "vscode": {
   "interpreter": {
    "hash": "5238573367df39f7286bb46f9ff5f08f63a01a80960060ce41e3c79b190280fa"
   }
  }
 },
 "nbformat": 4,
 "nbformat_minor": 2
}
